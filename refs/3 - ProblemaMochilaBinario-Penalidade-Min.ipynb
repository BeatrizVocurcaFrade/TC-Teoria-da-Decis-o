{
 "cells": [
  {
   "cell_type": "markdown",
   "metadata": {},
   "source": [
    "# Teoria da Decisão - ELE088\n",
    "\n",
    "*Prof. Lucas S. Batista*  \n",
    "*Departamento de Engenharia Elétrica*  \n",
    "*Universidade Federal de Minas Gerais* "
   ]
  },
  {
   "cell_type": "markdown",
   "metadata": {},
   "source": [
    "# Estudo de Caso\n",
    "\n",
    "## Problema da Mochila Binário:\n",
    "\n",
    "- Considere $n$ projetos e um capital de investimento $b$. O projeto $j$ tem um custo $a_j$ e um retorno esperado $p_j$. Formule um problema que permita selecionar o portfólio de projetos que maximiza o retorno sem exceder os recursos disponíveis. "
   ]
  },
  {
   "cell_type": "markdown",
   "metadata": {},
   "source": [
    "## Modelagem do problema\n",
    "\n",
    "Assumindo que $x_{j}$ represente as variáveis de otimização do problema, pode-se definir que se $x_{j} = 1$, então o projeto $j$ é selecionado; caso contrário, i.e., se $x_{j} = 0$, então o $j$-ésimo projeto não é escolhido.\n",
    "\n",
    "Com o intúito de maximizar o retorno total do portifólio de projetos, pode-se escrever a seguinte função objetivo:\n",
    "\n",
    "$$ \\max_x \\sum_{j=1}^{n} p_{j} x_{j} $$\n",
    "\n",
    "Adicionalmente, este problema apresenta o seguinte conjunto de restrições:\n",
    "\n",
    "\\begin{align} \n",
    "\\sum_{j=1}^{n} a_j x_j \\leq b, \\hspace{2cm} (R1) \\\\\n",
    "x_{j} \\in \\{0, 1\\}, \\forall j \\in \\{1, \\ldots, n\\} \\hspace{2cm} (R2)\n",
    "\\end{align}\n",
    "\n",
    "em que **R1** assegura que o portifólio de projetos escolhidos não ultrapassará o limite de capital disponível; e **R2** define o domínio das variáveis de decisão $x_{j}$."
   ]
  },
  {
   "cell_type": "markdown",
   "metadata": {},
   "source": [
    "## Otimização de uma instância arbitrária do problema via RVNS\n",
    "\n",
    "A seguir são apresentados os trechos de código da implementação do RVNS para o estudo de caso apresentado."
   ]
  },
  {
   "cell_type": "code",
   "execution_count": 1,
   "metadata": {},
   "outputs": [],
   "source": [
    "'''\n",
    "Importa os módulos usados\n",
    "'''\n",
    "import numpy as np\n",
    "import matplotlib.pyplot as plt\n",
    "import copy\n",
    "\n",
    "'''\n",
    "Define um tipo de dado similar ao Pascal \"record\" or C \"struct\"\n",
    "'''\n",
    "class Struct:\n",
    "    pass"
   ]
  },
  {
   "cell_type": "markdown",
   "metadata": {},
   "source": [
    "Os dados da instância teste são definidos a seguir. Note que considera-se um número de projetos *default* $n = 50$. Além disso, assume-se um vetor de custos $a$ em que o custo de investimento em um projeto $j$ é dado na posição $a_j$; de forma semelhante, tem-se um vetor de retornos $p$ em que o retorno financeiro de um projeto $j$ é dado na posição $p_j$. O capital de investimento disponível é informado em $b$."
   ]
  },
  {
   "cell_type": "code",
   "execution_count": 2,
   "metadata": {},
   "outputs": [],
   "source": [
    "'''\n",
    "Define os dados de uma instância arbitrária do problema\n",
    "'''\n",
    "def probdef(n=50):\n",
    "    \n",
    "    # n: número de projetos considerados\n",
    "        \n",
    "    '''\n",
    "    Vetor de custos:    a = [a1 a2 a3 ... an]\n",
    "    Vetor de retornos   p = [p1 p2 p3 ... pn]\n",
    "    Capital disponível: b\n",
    "    \n",
    "    '''\n",
    "    \n",
    "    np.random.seed(13) \n",
    "    a = np.random.randint(10,100,size=n)    # considera custos inteiros aleatórios no conjunto {10, 11, ..., 99}\n",
    "    p = 10*np.random.randint(10,100,size=n) # considera retornos inteiros aleatórios no conjunto 10*{10, 11, ..., 99}\n",
    "    b = 0.6*a.sum(axis=0) # capital disponível igual a 60% do montante necessário para investir em todos os projetos\n",
    "    np.random.seed()\n",
    "    \n",
    "    probdata = Struct()\n",
    "    probdata.a = a\n",
    "    probdata.p = p\n",
    "    probdata.b = b\n",
    "    probdata.n = n\n",
    "    \n",
    "    return probdata"
   ]
  },
  {
   "cell_type": "markdown",
   "metadata": {},
   "source": [
    "Uma solução candidata $x = (x_1, x_2, ..., x_n)$ para o problema foi modelada computacionalmente como um vetor binário, em que $x_j = 1$ indica aporte de investimento no $j$-ésimo projeto; caso contrário, $x_j = 0$."
   ]
  },
  {
   "cell_type": "code",
   "execution_count": 3,
   "metadata": {},
   "outputs": [],
   "source": [
    "'''\n",
    "Implementa uma solução inicial para o problema\n",
    "'''\n",
    "def sol_inicial(probdata,apply_constructive_heuristic):\n",
    "    \n",
    "    '''  \n",
    "    Modelou-se uma solução x como um vetor binário\n",
    "    \n",
    "    x = [x1 x2 ... xn]\n",
    "    '''\n",
    "        \n",
    "    if apply_constructive_heuristic == False:\n",
    "        # Constrói solução inicial aleatoriamente\n",
    "        x = Struct()    \n",
    "        x.solution = np.random.randint(0,2,size=probdata.n)   \n",
    "        \n",
    "    else:\n",
    "        # Constrói solução inicial usando uma heurística construtiva\n",
    "        x = Struct()\n",
    "        x.solution = np.zeros(shape=probdata.n,dtype=int)\n",
    "        sorted_projects = np.argsort(probdata.p - probdata.a) # projetos ordenados considerando a diferença 'pj - aj' \n",
    "\n",
    "        custo_acumulado = 0.0                   # inclue os melhores projetos até atingir o capital limite\n",
    "        for proj in sorted_projects[::-1]:\n",
    "            custo_acumulado += probdata.a[proj]\n",
    "            if custo_acumulado <= probdata.b:\n",
    "                x.solution[proj] = 1\n",
    "            else:\n",
    "                break\n",
    "    \n",
    "    return x"
   ]
  },
  {
   "cell_type": "markdown",
   "metadata": {},
   "source": [
    "A função objetivo é implementada conforme a definição apresentada anteriormente. De forma geral, dada uma solução $x$, que indica os projetos escolhidos para investimento, esta função computa o somatório dos retornos relacionados."
   ]
  },
  {
   "cell_type": "code",
   "execution_count": 4,
   "metadata": {},
   "outputs": [],
   "source": [
    "\n",
    "'''\n",
    "Implementa a função objetivo do problema\n",
    "'''\n",
    "def fobj(x, probdata):\n",
    "    \n",
    "    '''      \n",
    "    x = [x1 x2 ... xn]\n",
    "    '''\n",
    "    \n",
    "    sol     = np.transpose(np.array(x.solution))          # vetor solução transposto\n",
    "    retorno = np.array(probdata.p)                        # vetor com os retornos\n",
    "    custo   = np.array(probdata.a)                        # vetor com os custos\n",
    "    \n",
    "    g = np.dot(custo, sol) - probdata.b                   # valor da restrição R2 para a solução x\n",
    "    x.fitness = - np.dot(retorno, sol)                    # negativo do retorno total da solução candidata x\n",
    "    x.penalidade = 100*np.sum(np.where(g <= 0, 0, g)**2)  # penalidade aplicada sobre a solução x\n",
    "    x.fitness_penalizado = x.fitness + x.penalidade       # negativo do retorno total penalizado da solução x\n",
    "    \n",
    "    return x"
   ]
  },
  {
   "cell_type": "markdown",
   "metadata": {},
   "source": [
    "A função *neighborhoodChange* atualiza a solução corrente e também a estrutura de vizinhança. De forma geral, se a nova solução gerada $(y, fy)$ apresentar um retorno financeiro maior do que a solução incumbente $(x, fx)$, então a solução incumbente é atualizada e mantém-se/retoma-se a primeira estrutura, i.e., faz-se $k = 1$. Caso contrário, apenas segue-se para a próxima estrutura de vizinhança."
   ]
  },
  {
   "cell_type": "code",
   "execution_count": 5,
   "metadata": {},
   "outputs": [],
   "source": [
    "'''\n",
    "Implementa a função neighborhoodChange\n",
    "'''\n",
    "def neighborhoodChange(x, y, k):\n",
    "    \n",
    "    if y.fitness_penalizado < x.fitness_penalizado:\n",
    "        x = copy.deepcopy(y)\n",
    "        k  = 1\n",
    "    else:\n",
    "        k += 1\n",
    "        \n",
    "    return x, k"
   ]
  },
  {
   "cell_type": "markdown",
   "metadata": {},
   "source": [
    "Para o estudo de caso em questão foram propostas três estruturas de vizinhanças:\n",
    "\n",
    "1. A 1a estrutura de vizinhança aplica o operador *not* sobre $01$ posição escolhida arbitrariamente em $x$.\n",
    "2. A 2a estrutura de vizinhança aplica o operador *not* sobre $02$ posições escolhidas arbitrariamente em $x$.\n",
    "3. A 3a estrutura de vizinhança aplica o operador *not* sobre $03$ posições escolhidas arbitrariamente em $x$."
   ]
  },
  {
   "cell_type": "code",
   "execution_count": 6,
   "metadata": {},
   "outputs": [],
   "source": [
    "'''\n",
    "Implementa a função shake\n",
    "'''\n",
    "def shake(x,k,probdata):\n",
    "    \n",
    "    y = copy.deepcopy(x)\n",
    "    r = np.random.permutation(probdata.n)       \n",
    "    \n",
    "    if k == 1:             # apply not operator in one random position\n",
    "        y.solution[r[0]] = not(y.solution[r[0]])\n",
    "        \n",
    "    elif k == 2:           # apply not operator in two random positions        \n",
    "        y.solution[r[0]] = not(y.solution[r[0]])\n",
    "        y.solution[r[1]] = not(y.solution[r[1]])\n",
    "        \n",
    "    elif k == 3:           # apply not operator in three random positions\n",
    "        y.solution[r[0]] = not(y.solution[r[0]])\n",
    "        y.solution[r[1]] = not(y.solution[r[1]])\n",
    "        y.solution[r[2]] = not(y.solution[r[2]])        \n",
    "    \n",
    "    return y"
   ]
  },
  {
   "cell_type": "markdown",
   "metadata": {},
   "source": [
    "### Estrutura principal do método RVNS"
   ]
  },
  {
   "cell_type": "code",
   "execution_count": 7,
   "metadata": {},
   "outputs": [
    {
     "name": "stdout",
     "output_type": "stream",
     "text": [
      "\n",
      "--- SOLUÇÃO INICIAL CONSTRUÍDA ---\n",
      "\n",
      "Identificação dos projetos selecionados:\n",
      "\n",
      "x = [0 1 0 0 0 0 0 0 1 1 1 1 0 0 0 0 1 1 0 1 0 1 0 1 1 1 0 0 0 1 1 0 1 0 0 1 1\n",
      " 0 1 1 1 1 1 1 0 1 1 0 0 1]\n",
      "\n",
      "fitness(x) = -13870.00\n",
      "\n",
      "fitness(x) penalizado = -13870.00\n",
      "\n",
      "penalidade(x) = 0.00\n",
      "\n",
      "\n",
      "--- MELHOR SOLUÇÃO ENCONTRADA ---\n",
      "\n",
      "Identificação dos projetos selecionados:\n",
      "\n",
      "x = [0 1 1 1 1 0 0 1 1 1 1 0 0 1 0 1 1 1 1 1 0 1 0 1 1 1 1 1 0 1 1 1 1 1 1 1 0\n",
      " 0 1 1 1 0 1 1 1 0 0 0 1 1]\n",
      "\n",
      "fitness(x) = -20790.00\n",
      "\n",
      "fitness(x) penalizado = -20790.00\n",
      "\n",
      "penalidade(x) = 0.00\n",
      "\n"
     ]
    },
    {
     "data": {
      "image/png": "[encoded data removed]",
      "text/plain": [
       "<Figure size 432x288 with 2 Axes>"
      ]
     },
     "metadata": {
      "needs_background": "light"
     },
     "output_type": "display_data"
    }
   ],
   "source": [
    "'''\n",
    "Implementa uma metaheurística RVNS\n",
    "'''\n",
    "\n",
    "# Contador do número de soluções candidatas avaliadas\n",
    "num_sol_avaliadas = 0\n",
    "\n",
    "# Máximo número de soluções candidatas avaliadas\n",
    "max_num_sol_avaliadas = 10000\n",
    "\n",
    "# Número de estruturas de vizinhanças definidas\n",
    "kmax = 3\n",
    "\n",
    "# Faz a leitura dos dados da instância do problema\n",
    "probdata = probdef(n=50)\n",
    "\n",
    "# Gera solução inicial\n",
    "x = sol_inicial(probdata,apply_constructive_heuristic=False)\n",
    "\n",
    "# Avalia solução inicial\n",
    "x = fobj(x,probdata)\n",
    "num_sol_avaliadas += 1\n",
    "\n",
    "# Armazena dados para plot\n",
    "historico = Struct()\n",
    "historico.fit = []\n",
    "historico.sol = []\n",
    "historico.pen = []\n",
    "historico.fit_pen = []\n",
    "historico.fit.append(x.fitness)\n",
    "historico.sol.append(x.solution)\n",
    "historico.pen.append(x.penalidade)\n",
    "historico.fit_pen.append(x.fitness_penalizado)\n",
    "\n",
    "\n",
    "# Ciclo iterativo do método\n",
    "while num_sol_avaliadas < max_num_sol_avaliadas:\n",
    "    \n",
    "    k = 1\n",
    "    while k <= kmax:\n",
    "        \n",
    "        # Gera uma solução candidata na k-ésima vizinhança de x          \n",
    "        y = shake(x,k,probdata)\n",
    "        y = fobj(y,probdata)\n",
    "        num_sol_avaliadas += 1\n",
    "        \n",
    "        # Atualiza solução corrente e estrutura de vizinhança (se necessário)\n",
    "        x, k = neighborhoodChange(x, y, k)\n",
    "        \n",
    "        # Armazena dados para plot\n",
    "        historico.fit.append(x.fitness)\n",
    "        historico.sol.append(x.solution)\n",
    "        historico.pen.append(x.penalidade)\n",
    "        historico.fit_pen.append(x.fitness_penalizado)\n",
    "\n",
    "\n",
    "print('\\n--- SOLUÇÃO INICIAL CONSTRUÍDA ---\\n')\n",
    "print('Identificação dos projetos selecionados:\\n')\n",
    "print('x = {}\\n'.format(historico.sol[0]))\n",
    "print('fitness(x) = {:.2f}\\n'.format(historico.fit[0]))\n",
    "print('fitness(x) penalizado = {:.2f}\\n'.format(historico.fit_pen[0]))\n",
    "print('penalidade(x) = {:.2f}\\n'.format(historico.pen[0]))\n",
    "\n",
    "print('\\n--- MELHOR SOLUÇÃO ENCONTRADA ---\\n')\n",
    "print('Identificação dos projetos selecionados:\\n')\n",
    "print('x = {}\\n'.format(x.solution))\n",
    "print('fitness(x) = {:.2f}\\n'.format(x.fitness))\n",
    "print('fitness(x) penalizado = {:.2f}\\n'.format(x.fitness_penalizado))\n",
    "print('penalidade(x) = {:.2f}\\n'.format(x.penalidade))\n",
    "\n",
    "fig, (ax1, ax2) = plt.subplots(2, 1)\n",
    "s = len(historico.fit_pen)\n",
    "ax1.plot(np.linspace(0,s-1,s),historico.fit_pen,'k-')\n",
    "ax2.plot(np.linspace(0,s-1,s),historico.pen,'b:')\n",
    "fig.suptitle('Evolução da qualidade da solução candidata')\n",
    "ax1.set_ylabel('fitness(x) penalizado')\n",
    "ax2.set_ylabel('penalidade(x)')\n",
    "ax2.set_xlabel('Número de avaliações')\n",
    "plt.subplots_adjust(left=0.1,\n",
    "                    bottom=0.1, \n",
    "                    right=0.9, \n",
    "                    top=0.9, \n",
    "                    wspace=0.4, \n",
    "                    hspace=0.4)\n",
    "plt.show()"
   ]
  }
 ],
 "metadata": {
  "kernelspec": {
   "display_name": "Python 3 (ipykernel)",
   "language": "python",
   "name": "python3"
  },
  "language_info": {
   "codemirror_mode": {
    "name": "ipython",
    "version": 3
   },
   "file_extension": ".py",
   "mimetype": "text/x-python",
   "name": "python",
   "nbconvert_exporter": "python",
   "pygments_lexer": "ipython3",
   "version": "3.9.7"
  }
 },
 "nbformat": 4,
 "nbformat_minor": 4
}
